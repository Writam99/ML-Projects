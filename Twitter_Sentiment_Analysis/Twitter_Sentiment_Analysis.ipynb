{
  "cells": [
    {
      "cell_type": "code",
      "execution_count": 26,
      "metadata": {
        "ExecuteTime": {
          "end_time": "2019-08-06T17:26:37.014475Z",
          "start_time": "2019-08-06T17:26:22.708586Z"
        },
        "colab": {
          "base_uri": "https://localhost:8080/"
        },
        "id": "qhrdnrwpsXo9",
        "outputId": "4feaf2c7-0ad2-46da-f374-7e5e93e5e82e"
      },
      "outputs": [
        {
          "output_type": "stream",
          "name": "stderr",
          "text": [
            "[nltk_data] Downloading package movie_reviews to /root/nltk_data...\n",
            "[nltk_data]   Package movie_reviews is already up-to-date!\n",
            "[nltk_data] Downloading package averaged_perceptron_tagger to\n",
            "[nltk_data]     /root/nltk_data...\n",
            "[nltk_data]   Package averaged_perceptron_tagger is already up-to-\n",
            "[nltk_data]       date!\n",
            "[nltk_data] Downloading package stopwords to /root/nltk_data...\n",
            "[nltk_data]   Package stopwords is already up-to-date!\n",
            "[nltk_data] Downloading package wordnet to /root/nltk_data...\n",
            "[nltk_data]   Package wordnet is already up-to-date!\n"
          ]
        }
      ],
      "source": [
        "import pandas as pd\n",
        "import numpy as np\n",
        "import re\n",
        "import nltk\n",
        "\n",
        "nltk.download('movie_reviews')\n",
        "nltk.download('averaged_perceptron_tagger')\n",
        "nltk.download('stopwords')\n",
        "nltk.download('wordnet')\n",
        "\n",
        "from sklearn.linear_model import LogisticRegression\n",
        "from sklearn.svm import SVC, LinearSVC\n",
        "from sklearn.feature_extraction.text import CountVectorizer, TfidfVectorizer"
      ]
    },
    {
      "cell_type": "code",
      "execution_count": 12,
      "metadata": {
        "ExecuteTime": {
          "end_time": "2019-08-06T17:26:38.585669Z",
          "start_time": "2019-08-06T17:26:38.449887Z"
        },
        "id": "M1_9JO_osXpT"
      },
      "outputs": [],
      "source": [
        "train = pd.read_csv(\"training_twitter_x_y_train.csv\") #10980 rows 12 cols\n",
        "test = pd.read_csv(\"test_twitter_x_test.csv\")"
      ]
    },
    {
      "cell_type": "code",
      "execution_count": 13,
      "metadata": {
        "ExecuteTime": {
          "end_time": "2019-08-04T12:24:24.064191Z",
          "start_time": "2019-08-04T12:24:24.059231Z"
        },
        "code_folding": [
          0
        ],
        "id": "L-rvhp_-sXpY"
      },
      "outputs": [],
      "source": [
        "# print(train['negativereason_gold'].nunique())\n",
        "# print(train['negativereason_gold'].value_counts(),\"\\n\")\n",
        "\n",
        "# print(x_test.negativereason_gold.nunique())\n",
        "# print(x_test.negativereason_gold.value_counts())"
      ]
    },
    {
      "cell_type": "markdown",
      "metadata": {
        "id": "ptYWsElfsXpb"
      },
      "source": [
        "## Cleaning"
      ]
    },
    {
      "cell_type": "code",
      "execution_count": 14,
      "metadata": {
        "ExecuteTime": {
          "end_time": "2019-08-06T17:26:40.961890Z",
          "start_time": "2019-08-06T17:26:40.947305Z"
        },
        "id": "8jwGNwCCsXpg"
      },
      "outputs": [],
      "source": [
        "drop_cols = ['airline_sentiment_gold','name','tweet_id', 'retweet_count','tweet_created','user_timezone','tweet_coord','tweet_location']\n",
        "train.drop(drop_cols, axis = 1, inplace=True)\n",
        "test.drop(drop_cols, axis = 1, inplace=True)"
      ]
    },
    {
      "cell_type": "code",
      "execution_count": 15,
      "metadata": {
        "ExecuteTime": {
          "end_time": "2019-08-06T17:26:41.612911Z",
          "start_time": "2019-08-06T17:26:41.597341Z"
        },
        "id": "I1gtzk8csXpj"
      },
      "outputs": [],
      "source": [
        "stops = stopwords.words('english')\n",
        "stops += list(punctuation)\n",
        "stops += ['flight','airline','flights','AA']"
      ]
    },
    {
      "cell_type": "code",
      "execution_count": 16,
      "metadata": {
        "ExecuteTime": {
          "end_time": "2019-08-06T17:26:47.245154Z",
          "start_time": "2019-08-06T17:26:42.658559Z"
        },
        "id": "i3HxKKnesXpm"
      },
      "outputs": [],
      "source": [
        "abbreviations = {'ppl': 'people','cust':'customer','serv':'service','mins':'minutes','hrs':'hours','svc': 'service',\n",
        "           'u':'you','pls':'please'}\n",
        "\n",
        "train_index = train[~train.negativereason_gold.isna()].index\n",
        "test_index = test[~test.negativereason_gold.isna()].index\n",
        "\n",
        "for index, row in train.iterrows():\n",
        "    tweet = row.text\n",
        "    tweet = re.sub('((www\\.[^\\s]+)|(https?://[^\\s]+))','',tweet) #remove links\n",
        "    tweet = re.sub('@[^\\s]+','',tweet) #remove usernames\n",
        "    tweet = re.sub('[\\s]+', ' ', tweet) #remove additional whitespaces\n",
        "    tweet = re.sub(r'#([^\\s]+)', r'\\1', tweet) #replace #word with word\n",
        "    tweet = tweet.strip('\\'\"') #trim tweet\n",
        "    words = []\n",
        "    for word in tweet.split():\n",
        "#         if not hasNumbers(word):\n",
        "        if word.lower() not in stops:\n",
        "            if word in list(abbreviations.keys()):\n",
        "                words.append(abbreviations[word])\n",
        "            else:\n",
        "                words.append(word.lower())   \n",
        "    tweet = \" \".join(words)\n",
        "    tweet = \" %s %s\" % (tweet, row.airline)\n",
        "    row.text = tweet\n",
        "    if index in train_index:\n",
        "        row.text = \" %s %s\" % (row.text, row.negativereason_gold)\n",
        "\n",
        "for index, row in test.iterrows():\n",
        "    tweet = row.text\n",
        "    tweet = re.sub('((www\\.[^\\s]+)|(https?://[^\\s]+))','',tweet) #remove links\n",
        "    tweet = re.sub('@[^\\s]+','',tweet) #remove usernames\n",
        "    tweet = re.sub('[\\s]+', ' ', tweet) #remove additional whitespaces\n",
        "    tweet = re.sub(r'#([^\\s]+)', r'\\1', tweet) #replace #word with word\n",
        "    tweet = tweet.strip('\\'\"') #trim tweet\n",
        "    words = []\n",
        "    for word in tweet.split(): \n",
        "#         if not hasNumbers(word):\n",
        "        if word.lower() not in stops:\n",
        "            if word in list(abbreviations.keys()):\n",
        "                words.append(abbreviations[word])\n",
        "            else:\n",
        "                words.append(word.lower())\n",
        "    tweet = \" \".join(words)\n",
        "    tweet = \" %s %s\" % (tweet, row.airline)\n",
        "    row.text = tweet\n",
        "    if index in test_index:\n",
        "        row.text = \" %s %s\" % (row.text, row.negativereason_gold)\n",
        "\n",
        "del train['negativereason_gold']\n",
        "del test['negativereason_gold']"
      ]
    },
    {
      "cell_type": "code",
      "execution_count": 17,
      "metadata": {
        "ExecuteTime": {
          "end_time": "2019-08-06T17:26:52.848188Z",
          "start_time": "2019-08-06T17:26:50.534082Z"
        },
        "code_folding": [],
        "id": "fZAiD8GLsXps"
      },
      "outputs": [],
      "source": [
        "def deEmojify(inputString):\n",
        "    return inputString.encode('ascii', 'ignore').decode('ascii')\n",
        "\n",
        "for index, row in train.iterrows():\n",
        "    row.text = deEmojify(row.text)\n",
        "\n",
        "for index, row in test.iterrows():\n",
        "    row.text = deEmojify(row.text)"
      ]
    },
    {
      "cell_type": "code",
      "execution_count": 18,
      "metadata": {
        "ExecuteTime": {
          "end_time": "2019-08-06T17:26:55.482112Z",
          "start_time": "2019-08-06T17:26:52.850905Z"
        },
        "id": "CPkGKhnHsXpv"
      },
      "outputs": [],
      "source": [
        "def hasNumbers(inputString):\n",
        "    return any(char.isdigit() for char in inputString)\n",
        "\n",
        "for index, row in train.iterrows():\n",
        "    words = row.text.split()\n",
        "    new_words = []\n",
        "    for word in words:\n",
        "        if not hasNumbers(word):\n",
        "            new_words.append(word)\n",
        "    row.text = \" \".join(new_words)\n",
        "    \n",
        "for index, row in test.iterrows():\n",
        "    words = row.text.split()\n",
        "    new_words = []\n",
        "    for word in words:\n",
        "        if not hasNumbers(word):\n",
        "            new_words.append(word)\n",
        "    row.text = \" \".join(new_words)"
      ]
    },
    {
      "cell_type": "code",
      "execution_count": 19,
      "metadata": {
        "ExecuteTime": {
          "end_time": "2019-08-06T17:26:55.560184Z",
          "start_time": "2019-08-06T17:26:55.485923Z"
        },
        "colab": {
          "base_uri": "https://localhost:8080/",
          "height": 206
        },
        "id": "F5Lz5xiWsXpz",
        "outputId": "72e2ecf1-7435-4d11-ab45-faca29080185"
      },
      "outputs": [
        {
          "output_type": "execute_result",
          "data": {
            "text/plain": [
              "  airline_sentiment    airline  \\\n",
              "0          negative  Southwest   \n",
              "1          positive  Southwest   \n",
              "2          positive     United   \n",
              "3          negative  Southwest   \n",
              "4          negative     United   \n",
              "\n",
              "                                                text  \n",
              "0  scheduled morning, days fact, yes..not sure ev...  \n",
              "1  seeing workers time time going beyond love fly...  \n",
              "2  flew ord miami back great crew, service legs. ...  \n",
              "3                      that's horse radish Southwest  \n",
              "4  ord delayed air force one, last sbn minutes la...  "
            ],
            "text/html": [
              "\n",
              "  <div id=\"df-10bd7d22-e5b0-4c6b-ba29-71fd4775a61e\">\n",
              "    <div class=\"colab-df-container\">\n",
              "      <div>\n",
              "<style scoped>\n",
              "    .dataframe tbody tr th:only-of-type {\n",
              "        vertical-align: middle;\n",
              "    }\n",
              "\n",
              "    .dataframe tbody tr th {\n",
              "        vertical-align: top;\n",
              "    }\n",
              "\n",
              "    .dataframe thead th {\n",
              "        text-align: right;\n",
              "    }\n",
              "</style>\n",
              "<table border=\"1\" class=\"dataframe\">\n",
              "  <thead>\n",
              "    <tr style=\"text-align: right;\">\n",
              "      <th></th>\n",
              "      <th>airline_sentiment</th>\n",
              "      <th>airline</th>\n",
              "      <th>text</th>\n",
              "    </tr>\n",
              "  </thead>\n",
              "  <tbody>\n",
              "    <tr>\n",
              "      <th>0</th>\n",
              "      <td>negative</td>\n",
              "      <td>Southwest</td>\n",
              "      <td>scheduled morning, days fact, yes..not sure ev...</td>\n",
              "    </tr>\n",
              "    <tr>\n",
              "      <th>1</th>\n",
              "      <td>positive</td>\n",
              "      <td>Southwest</td>\n",
              "      <td>seeing workers time time going beyond love fly...</td>\n",
              "    </tr>\n",
              "    <tr>\n",
              "      <th>2</th>\n",
              "      <td>positive</td>\n",
              "      <td>United</td>\n",
              "      <td>flew ord miami back great crew, service legs. ...</td>\n",
              "    </tr>\n",
              "    <tr>\n",
              "      <th>3</th>\n",
              "      <td>negative</td>\n",
              "      <td>Southwest</td>\n",
              "      <td>that's horse radish Southwest</td>\n",
              "    </tr>\n",
              "    <tr>\n",
              "      <th>4</th>\n",
              "      <td>negative</td>\n",
              "      <td>United</td>\n",
              "      <td>ord delayed air force one, last sbn minutes la...</td>\n",
              "    </tr>\n",
              "  </tbody>\n",
              "</table>\n",
              "</div>\n",
              "      <button class=\"colab-df-convert\" onclick=\"convertToInteractive('df-10bd7d22-e5b0-4c6b-ba29-71fd4775a61e')\"\n",
              "              title=\"Convert this dataframe to an interactive table.\"\n",
              "              style=\"display:none;\">\n",
              "        \n",
              "  <svg xmlns=\"http://www.w3.org/2000/svg\" height=\"24px\"viewBox=\"0 0 24 24\"\n",
              "       width=\"24px\">\n",
              "    <path d=\"M0 0h24v24H0V0z\" fill=\"none\"/>\n",
              "    <path d=\"M18.56 5.44l.94 2.06.94-2.06 2.06-.94-2.06-.94-.94-2.06-.94 2.06-2.06.94zm-11 1L8.5 8.5l.94-2.06 2.06-.94-2.06-.94L8.5 2.5l-.94 2.06-2.06.94zm10 10l.94 2.06.94-2.06 2.06-.94-2.06-.94-.94-2.06-.94 2.06-2.06.94z\"/><path d=\"M17.41 7.96l-1.37-1.37c-.4-.4-.92-.59-1.43-.59-.52 0-1.04.2-1.43.59L10.3 9.45l-7.72 7.72c-.78.78-.78 2.05 0 2.83L4 21.41c.39.39.9.59 1.41.59.51 0 1.02-.2 1.41-.59l7.78-7.78 2.81-2.81c.8-.78.8-2.07 0-2.86zM5.41 20L4 18.59l7.72-7.72 1.47 1.35L5.41 20z\"/>\n",
              "  </svg>\n",
              "      </button>\n",
              "      \n",
              "  <style>\n",
              "    .colab-df-container {\n",
              "      display:flex;\n",
              "      flex-wrap:wrap;\n",
              "      gap: 12px;\n",
              "    }\n",
              "\n",
              "    .colab-df-convert {\n",
              "      background-color: #E8F0FE;\n",
              "      border: none;\n",
              "      border-radius: 50%;\n",
              "      cursor: pointer;\n",
              "      display: none;\n",
              "      fill: #1967D2;\n",
              "      height: 32px;\n",
              "      padding: 0 0 0 0;\n",
              "      width: 32px;\n",
              "    }\n",
              "\n",
              "    .colab-df-convert:hover {\n",
              "      background-color: #E2EBFA;\n",
              "      box-shadow: 0px 1px 2px rgba(60, 64, 67, 0.3), 0px 1px 3px 1px rgba(60, 64, 67, 0.15);\n",
              "      fill: #174EA6;\n",
              "    }\n",
              "\n",
              "    [theme=dark] .colab-df-convert {\n",
              "      background-color: #3B4455;\n",
              "      fill: #D2E3FC;\n",
              "    }\n",
              "\n",
              "    [theme=dark] .colab-df-convert:hover {\n",
              "      background-color: #434B5C;\n",
              "      box-shadow: 0px 1px 3px 1px rgba(0, 0, 0, 0.15);\n",
              "      filter: drop-shadow(0px 1px 2px rgba(0, 0, 0, 0.3));\n",
              "      fill: #FFFFFF;\n",
              "    }\n",
              "  </style>\n",
              "\n",
              "      <script>\n",
              "        const buttonEl =\n",
              "          document.querySelector('#df-10bd7d22-e5b0-4c6b-ba29-71fd4775a61e button.colab-df-convert');\n",
              "        buttonEl.style.display =\n",
              "          google.colab.kernel.accessAllowed ? 'block' : 'none';\n",
              "\n",
              "        async function convertToInteractive(key) {\n",
              "          const element = document.querySelector('#df-10bd7d22-e5b0-4c6b-ba29-71fd4775a61e');\n",
              "          const dataTable =\n",
              "            await google.colab.kernel.invokeFunction('convertToInteractive',\n",
              "                                                     [key], {});\n",
              "          if (!dataTable) return;\n",
              "\n",
              "          const docLinkHtml = 'Like what you see? Visit the ' +\n",
              "            '<a target=\"_blank\" href=https://colab.research.google.com/notebooks/data_table.ipynb>data table notebook</a>'\n",
              "            + ' to learn more about interactive tables.';\n",
              "          element.innerHTML = '';\n",
              "          dataTable['output_type'] = 'display_data';\n",
              "          await google.colab.output.renderOutput(dataTable, element);\n",
              "          const docLink = document.createElement('div');\n",
              "          docLink.innerHTML = docLinkHtml;\n",
              "          element.appendChild(docLink);\n",
              "        }\n",
              "      </script>\n",
              "    </div>\n",
              "  </div>\n",
              "  "
            ]
          },
          "metadata": {},
          "execution_count": 19
        }
      ],
      "source": [
        "train.head()\n",
        "# test.head()"
      ]
    },
    {
      "cell_type": "markdown",
      "metadata": {
        "id": "bjamGK_QsXp5"
      },
      "source": [
        "## Creating vocab and data formatting"
      ]
    },
    {
      "cell_type": "code",
      "execution_count": 20,
      "metadata": {
        "ExecuteTime": {
          "end_time": "2019-08-06T17:56:34.904385Z",
          "start_time": "2019-08-06T17:56:34.631243Z"
        },
        "id": "iospymNhsXp7"
      },
      "outputs": [],
      "source": [
        "v = TfidfVectorizer(analyzer='word', max_features=3150, max_df = 0.8, ngram_range=(1,1))\n",
        "train_features= v.fit_transform(train.text)\n",
        "test_features=v.transform(test.text)"
      ]
    },
    {
      "cell_type": "code",
      "execution_count": 21,
      "metadata": {
        "ExecuteTime": {
          "end_time": "2019-08-06T17:56:38.481957Z",
          "start_time": "2019-08-06T17:56:38.333543Z"
        },
        "id": "YDfsiDB3sXp8"
      },
      "outputs": [],
      "source": [
        "clf = LogisticRegression(C = 2.1, solver='liblinear', multi_class='auto')\n",
        "clf.fit(train_features,train['airline_sentiment'])\n",
        "pred = clf.predict(test_features)\n",
        "with open('predictions_twitter.csv', 'w') as f:\n",
        "    for item in pred:\n",
        "        f.write(\"%s\\n\" % item)"
      ]
    },
    {
      "cell_type": "code",
      "execution_count": 22,
      "metadata": {
        "ExecuteTime": {
          "end_time": "2019-08-06T15:53:29.055261Z",
          "start_time": "2019-08-06T15:53:19.146191Z"
        },
        "id": "Mc_JA_OmsXp_"
      },
      "outputs": [],
      "source": [
        "clf = SVC(kernel=\"linear\", C= 0.96 , gamma = 'scale')\n",
        "# clf = SVC(C = 1000, gamma = 0.001)\n",
        "clf.fit(train_features, train['airline_sentiment'])\n",
        "pred = clf.predict(test_features)"
      ]
    },
    {
      "cell_type": "code",
      "execution_count": 23,
      "metadata": {
        "ExecuteTime": {
          "end_time": "2019-08-06T15:53:29.649946Z",
          "start_time": "2019-08-06T15:53:29.638435Z"
        },
        "id": "YZo2cY97sXqA"
      },
      "outputs": [],
      "source": [
        "with open('predictions_twitter2.csv', 'w') as f: #less accurate\n",
        "    for item in pred:\n",
        "        f.write(\"%s\\n\" % item)"
      ]
    },
    {
      "cell_type": "code",
      "execution_count": 25,
      "metadata": {
        "ExecuteTime": {
          "end_time": "2019-08-04T10:09:48.615243Z",
          "start_time": "2019-08-04T10:09:48.589411Z"
        },
        "code_folding": [],
        "colab": {
          "base_uri": "https://localhost:8080/",
          "height": 171
        },
        "id": "iWfIfwHwsXqB",
        "outputId": "93568a0a-1789-44e8-e1b3-7f9c876227d3"
      },
      "outputs": [
        {
          "output_type": "error",
          "ename": "AttributeError",
          "evalue": "ignored",
          "traceback": [
            "\u001b[0;31m---------------------------------------------------------------------------\u001b[0m",
            "\u001b[0;31mAttributeError\u001b[0m                            Traceback (most recent call last)",
            "\u001b[0;32m<ipython-input-25-2475cded60c4>\u001b[0m in \u001b[0;36m<cell line: 1>\u001b[0;34m()\u001b[0m\n\u001b[0;32m----> 1\u001b[0;31m \u001b[0mv\u001b[0m\u001b[0;34m.\u001b[0m\u001b[0mget_feature_names\u001b[0m\u001b[0;34m(\u001b[0m\u001b[0;34m)\u001b[0m\u001b[0;34m\u001b[0m\u001b[0;34m\u001b[0m\u001b[0m\n\u001b[0m",
            "\u001b[0;31mAttributeError\u001b[0m: 'TfidfVectorizer' object has no attribute 'get_feature_names'"
          ]
        }
      ],
      "source": [
        " #v.get_feature_names()"
      ]
    }
  ],
  "metadata": {
    "kernelspec": {
      "display_name": "Python 3",
      "language": "python",
      "name": "python3"
    },
    "language_info": {
      "codemirror_mode": {
        "name": "ipython",
        "version": 3
      },
      "file_extension": ".py",
      "mimetype": "text/x-python",
      "name": "python",
      "nbconvert_exporter": "python",
      "pygments_lexer": "ipython3",
      "version": "3.7.3"
    },
    "notify_time": "5",
    "colab": {
      "provenance": []
    }
  },
  "nbformat": 4,
  "nbformat_minor": 0
}
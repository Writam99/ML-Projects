{
  "nbformat": 4,
  "nbformat_minor": 0,
  "metadata": {
    "colab": {
      "provenance": [],
      "machine_shape": "hm"
    },
    "kernelspec": {
      "name": "python3",
      "display_name": "Python 3"
    },
    "accelerator": "GPU"
  },
  "cells": [
    {
      "cell_type": "code",
      "metadata": {
        "id": "oZNHqp5lnxz7",
        "outputId": "5b9ac262-33f5-47ea-dba4-716338b5a12c",
        "colab": {
          "base_uri": "https://localhost:8080/"
        }
      },
      "source": [
        "#download the data and save it to poem.txt\n",
        "!wget https://www.gutenberg.org/files/1661/1661-0.txt -O book.txt"
      ],
      "execution_count": 59,
      "outputs": [
        {
          "output_type": "stream",
          "name": "stdout",
          "text": [
            "--2023-05-05 07:41:55--  https://www.gutenberg.org/files/1661/1661-0.txt\n",
            "Resolving www.gutenberg.org (www.gutenberg.org)... 152.19.134.47, 2610:28:3090:3000:0:bad:cafe:47\n",
            "Connecting to www.gutenberg.org (www.gutenberg.org)|152.19.134.47|:443... connected.\n",
            "HTTP request sent, awaiting response... 200 OK\n",
            "Length: 607430 (593K) [text/plain]\n",
            "Saving to: ‘book.txt’\n",
            "\n",
            "book.txt            100%[===================>] 593.19K  2.77MB/s    in 0.2s    \n",
            "\n",
            "2023-05-05 07:41:55 (2.77 MB/s) - ‘book.txt’ saved [607430/607430]\n",
            "\n"
          ]
        }
      ]
    },
    {
      "cell_type": "code",
      "metadata": {
        "id": "iHLcaBBEoLRd"
      },
      "source": [
        "#read the file in text string\n",
        "text = open('book.txt', 'r', encoding='utf-8').read()\n",
        "text = text.lower()"
      ],
      "execution_count": 60,
      "outputs": []
    },
    {
      "cell_type": "code",
      "metadata": {
        "id": "NbUq1oKCotPP"
      },
      "source": [
        "#create list of sentences\n",
        "sentences = text.split('\\n')"
      ],
      "execution_count": 61,
      "outputs": []
    },
    {
      "cell_type": "code",
      "metadata": {
        "id": "CS0-TSEE5RZL"
      },
      "source": [
        "#import dependencies to preprocess the text data and making sequences\n",
        "import tensorflow as tf\n",
        "import keras\n",
        "from keras.preprocessing.text import Tokenizer\n",
        "from keras.utils import pad_sequences"
      ],
      "execution_count": 62,
      "outputs": []
    },
    {
      "cell_type": "code",
      "metadata": {
        "id": "60_eT7er5qhQ"
      },
      "source": [
        "#initialize the tokenizer, which can work char by char\n",
        "tokenizer = Tokenizer(oov_token='<UNK>')"
      ],
      "execution_count": 63,
      "outputs": []
    },
    {
      "cell_type": "code",
      "metadata": {
        "id": "NQ-PNcaNAeCW"
      },
      "source": [
        "tokenizer.fit_on_texts(sentences)"
      ],
      "execution_count": 64,
      "outputs": []
    },
    {
      "cell_type": "code",
      "metadata": {
        "id": "3qu1rTY7NCxI",
        "outputId": "df85bd0e-1f0c-4b2d-c3fb-aecbad895942",
        "colab": {
          "base_uri": "https://localhost:8080/"
        }
      },
      "source": [
        "vocab_size = len(tokenizer.word_index) + 1\n",
        "vocab_size"
      ],
      "execution_count": 65,
      "outputs": [
        {
          "output_type": "execute_result",
          "data": {
            "text/plain": [
              "8915"
            ]
          },
          "metadata": {},
          "execution_count": 65
        }
      ]
    },
    {
      "cell_type": "code",
      "source": [
        "sequences = tokenizer.texts_to_sequences(sentences)"
      ],
      "metadata": {
        "id": "8r5p-DPQzJri"
      },
      "execution_count": 66,
      "outputs": []
    },
    {
      "cell_type": "code",
      "metadata": {
        "id": "RaFyCfGE-vSi"
      },
      "source": [
        "input_sequences = []\n",
        "for sequence in sequences:\n",
        "  for i in range(1, len(sequence)):\n",
        "    n_gram_sequence = sequence[:i+1]\n",
        "    input_sequences.append(n_gram_sequence)"
      ],
      "execution_count": 67,
      "outputs": []
    },
    {
      "cell_type": "code",
      "metadata": {
        "id": "J5RZLLmsAipB",
        "outputId": "da410a2e-f62d-4b9d-a085-871c65da9355",
        "colab": {
          "base_uri": "https://localhost:8080/"
        }
      },
      "source": [
        "print(input_sequences[0], input_sequences[1], input_sequences[2], input_sequences[3])"
      ],
      "execution_count": 68,
      "outputs": [
        {
          "output_type": "stream",
          "name": "stdout",
          "text": [
            "[4775, 145] [4775, 145, 132] [4775, 145, 132, 886] [4775, 145, 132, 886, 5]\n"
          ]
        }
      ]
    },
    {
      "cell_type": "code",
      "metadata": {
        "id": "-3mHT6TUBApU",
        "outputId": "8035abe6-d598-402c-a4bc-d430ce820d93",
        "colab": {
          "base_uri": "https://localhost:8080/"
        }
      },
      "source": [
        "#find the maximum length among sequences\n",
        "max_seq_len = max([len(seq) for seq in input_sequences])\n",
        "max_seq_len"
      ],
      "execution_count": 69,
      "outputs": [
        {
          "output_type": "execute_result",
          "data": {
            "text/plain": [
              "20"
            ]
          },
          "metadata": {},
          "execution_count": 69
        }
      ]
    },
    {
      "cell_type": "code",
      "metadata": {
        "id": "mJXOYpf3nI0H"
      },
      "source": [
        "#we will keep the last value of the sequence as our target label and all values before that as input to sequence model"
      ],
      "execution_count": 70,
      "outputs": []
    },
    {
      "cell_type": "code",
      "metadata": {
        "id": "r8mnnT6nBi5K"
      },
      "source": [
        "#pad the sequences to ensure that they are all of same length\n",
        "padded_sequences = pad_sequences(input_sequences, maxlen = max_seq_len)"
      ],
      "execution_count": 71,
      "outputs": []
    },
    {
      "cell_type": "code",
      "metadata": {
        "id": "GpvirsLgWPoU",
        "outputId": "e68f4a63-24dd-4c24-8585-9fc516c7a15c",
        "colab": {
          "base_uri": "https://localhost:8080/"
        }
      },
      "source": [
        "print(padded_sequences[0], padded_sequences[1])"
      ],
      "execution_count": 72,
      "outputs": [
        {
          "output_type": "stream",
          "name": "stdout",
          "text": [
            "[   0    0    0    0    0    0    0    0    0    0    0    0    0    0\n",
            "    0    0    0    0 4775  145] [   0    0    0    0    0    0    0    0    0    0    0    0    0    0\n",
            "    0    0    0 4775  145  132]\n"
          ]
        }
      ]
    },
    {
      "cell_type": "code",
      "metadata": {
        "id": "YYhboOBWCLb3"
      },
      "source": [
        "import numpy as np\n",
        "padded_sequences = np.array(padded_sequences)"
      ],
      "execution_count": 73,
      "outputs": []
    },
    {
      "cell_type": "code",
      "metadata": {
        "id": "8BW2NjBcCjLz",
        "outputId": "77a47192-0a2b-4e47-abd3-c7027d596271",
        "colab": {
          "base_uri": "https://localhost:8080/"
        }
      },
      "source": [
        "print(len(padded_sequences[0]))\n",
        "print(len(padded_sequences[1]))"
      ],
      "execution_count": 74,
      "outputs": [
        {
          "output_type": "stream",
          "name": "stdout",
          "text": [
            "20\n",
            "20\n"
          ]
        }
      ]
    },
    {
      "cell_type": "code",
      "metadata": {
        "id": "KdvK9urMCZXC"
      },
      "source": [
        "#prepare training sequences and labels\n",
        "x = padded_sequences[:, : -1]\n",
        "labels = padded_sequences[:, -1]"
      ],
      "execution_count": 75,
      "outputs": []
    },
    {
      "cell_type": "code",
      "metadata": {
        "id": "zBMmN6-qMqKu",
        "outputId": "a3ced6db-4994-4a3d-8498-7c08f172c62b",
        "colab": {
          "base_uri": "https://localhost:8080/"
        }
      },
      "source": [
        "labels.shape"
      ],
      "execution_count": 76,
      "outputs": [
        {
          "output_type": "execute_result",
          "data": {
            "text/plain": [
              "(101575,)"
            ]
          },
          "metadata": {},
          "execution_count": 76
        }
      ]
    },
    {
      "cell_type": "code",
      "metadata": {
        "id": "wvrPC8n5Dw61"
      },
      "source": [
        "#to one hot encode the labels\n",
        "y = tf.keras.utils.to_categorical(labels, num_classes=vocab_size)"
      ],
      "execution_count": 77,
      "outputs": []
    },
    {
      "cell_type": "code",
      "metadata": {
        "id": "ncT36ipmJaqR",
        "outputId": "5e2e5407-7932-4a9c-d5f1-1c458a006679",
        "colab": {
          "base_uri": "https://localhost:8080/"
        }
      },
      "source": [
        "x.shape"
      ],
      "execution_count": 78,
      "outputs": [
        {
          "output_type": "execute_result",
          "data": {
            "text/plain": [
              "(101575, 19)"
            ]
          },
          "metadata": {},
          "execution_count": 78
        }
      ]
    },
    {
      "cell_type": "code",
      "metadata": {
        "id": "AIdAL56IcTXW"
      },
      "source": [
        "#x = x.reshape(x.shape[0], x.shape[1], 1)"
      ],
      "execution_count": 79,
      "outputs": []
    },
    {
      "cell_type": "code",
      "metadata": {
        "id": "dSSjSqj-JXrU",
        "outputId": "7a704d89-6b5d-4d24-9860-a608b71203b4",
        "colab": {
          "base_uri": "https://localhost:8080/"
        }
      },
      "source": [
        "y.shape"
      ],
      "execution_count": 80,
      "outputs": [
        {
          "output_type": "execute_result",
          "data": {
            "text/plain": [
              "(101575, 8915)"
            ]
          },
          "metadata": {},
          "execution_count": 80
        }
      ]
    },
    {
      "cell_type": "code",
      "metadata": {
        "id": "G6H2aOeJGIfG"
      },
      "source": [
        "#import dependencies for defining the model\n",
        "from tensorflow.keras.models import Sequential\n",
        "from tensorflow.keras.layers import Embedding, Bidirectional, LSTM, Dense\n",
        "from tensorflow.keras.optimizers import Adam"
      ],
      "execution_count": 81,
      "outputs": []
    },
    {
      "cell_type": "code",
      "metadata": {
        "id": "NKJVkDw8GxCH",
        "outputId": "ecf44f08-1139-4eb2-8557-2182ab28e81e",
        "colab": {
          "base_uri": "https://localhost:8080/"
        }
      },
      "source": [
        "#define and compile the model\n",
        "model = Sequential()\n",
        "model.add(Embedding(vocab_size, 100, input_length=max_seq_len-1))\n",
        "model.add(Bidirectional(LSTM(256)))\n",
        "model.add(Dense(vocab_size, activation='softmax'))\n",
        "adam = Adam(learning_rate=0.01)\n",
        "model.compile(loss='categorical_crossentropy', optimizer=adam, metrics=['acc'])\n",
        "model.summary()"
      ],
      "execution_count": 82,
      "outputs": [
        {
          "output_type": "stream",
          "name": "stdout",
          "text": [
            "Model: \"sequential_1\"\n",
            "_________________________________________________________________\n",
            " Layer (type)                Output Shape              Param #   \n",
            "=================================================================\n",
            " embedding_1 (Embedding)     (None, 19, 100)           891500    \n",
            "                                                                 \n",
            " bidirectional_1 (Bidirectio  (None, 512)              731136    \n",
            " nal)                                                            \n",
            "                                                                 \n",
            " dense_1 (Dense)             (None, 8915)              4573395   \n",
            "                                                                 \n",
            "=================================================================\n",
            "Total params: 6,196,031\n",
            "Trainable params: 6,196,031\n",
            "Non-trainable params: 0\n",
            "_________________________________________________________________\n"
          ]
        }
      ]
    },
    {
      "cell_type": "code",
      "metadata": {
        "id": "O_L_wdid2YzQ"
      },
      "source": [
        "#initialize the callback for early stopping the training if there is not at least 1% improvement in the accuracy \n",
        "from tensorflow.keras.callbacks import EarlyStopping\n",
        "es = EarlyStopping(monitor = 'acc', min_delta=0.01)"
      ],
      "execution_count": 83,
      "outputs": []
    },
    {
      "cell_type": "code",
      "metadata": {
        "id": "PAyKsdQtHxkk",
        "outputId": "14412d0d-2dfe-4d19-a80b-62fae7ab6c21",
        "colab": {
          "base_uri": "https://localhost:8080/"
        }
      },
      "source": [
        "model.fit(x, y, epochs=50, verbose=1, batch_size=512, callbacks=[es])"
      ],
      "execution_count": 84,
      "outputs": [
        {
          "output_type": "stream",
          "name": "stdout",
          "text": [
            "Epoch 1/50\n",
            "199/199 [==============================] - 25s 107ms/step - loss: 6.1762 - acc: 0.0858\n",
            "Epoch 2/50\n",
            "199/199 [==============================] - 12s 58ms/step - loss: 5.2759 - acc: 0.1449\n",
            "Epoch 3/50\n",
            "199/199 [==============================] - 9s 44ms/step - loss: 4.7466 - acc: 0.1734\n",
            "Epoch 4/50\n",
            "199/199 [==============================] - 9s 45ms/step - loss: 4.2238 - acc: 0.2035\n",
            "Epoch 5/50\n",
            "199/199 [==============================] - 8s 41ms/step - loss: 3.7084 - acc: 0.2497\n",
            "Epoch 6/50\n",
            "199/199 [==============================] - 8s 39ms/step - loss: 3.2563 - acc: 0.3036\n",
            "Epoch 7/50\n",
            "199/199 [==============================] - 8s 39ms/step - loss: 2.8832 - acc: 0.3582\n",
            "Epoch 8/50\n",
            "199/199 [==============================] - 8s 39ms/step - loss: 2.5721 - acc: 0.4078\n",
            "Epoch 9/50\n",
            "199/199 [==============================] - 7s 37ms/step - loss: 2.3229 - acc: 0.4529\n",
            "Epoch 10/50\n",
            "199/199 [==============================] - 7s 37ms/step - loss: 2.1160 - acc: 0.4916\n",
            "Epoch 11/50\n",
            "199/199 [==============================] - 8s 39ms/step - loss: 1.9459 - acc: 0.5253\n",
            "Epoch 12/50\n",
            "199/199 [==============================] - 7s 36ms/step - loss: 1.7975 - acc: 0.5558\n",
            "Epoch 13/50\n",
            "199/199 [==============================] - 8s 40ms/step - loss: 1.6776 - acc: 0.5806\n",
            "Epoch 14/50\n",
            "199/199 [==============================] - 8s 38ms/step - loss: 1.6046 - acc: 0.5938\n",
            "Epoch 15/50\n",
            "199/199 [==============================] - 8s 38ms/step - loss: 1.5183 - acc: 0.6136\n",
            "Epoch 16/50\n",
            "199/199 [==============================] - 8s 38ms/step - loss: 1.4656 - acc: 0.6226\n"
          ]
        },
        {
          "output_type": "execute_result",
          "data": {
            "text/plain": [
              "<keras.callbacks.History at 0x7f63200e7dc0>"
            ]
          },
          "metadata": {},
          "execution_count": 84
        }
      ]
    },
    {
      "cell_type": "code",
      "metadata": {
        "id": "sKmppR6VRUwf",
        "outputId": "52a48b17-df79-49b1-c48a-c2c49f71619b",
        "colab": {
          "base_uri": "https://localhost:8080/"
        }
      },
      "source": [
        "#Time to become storyteller!\n",
        "seed_text = \"I could not help laughing at the ease with which he explained his process of deduction\"          \n",
        "next_words = 100\n",
        "  \n",
        "for _ in range(next_words):\n",
        "  sequence = tokenizer.texts_to_sequences([seed_text])\n",
        "  padded = pad_sequences(sequence, maxlen=max_seq_len-1)\n",
        "  #predicted = model.predict_classes(padded, verbose=0)\n",
        "  predicted = np.argmax(model.predict(padded), axis=1)\n",
        "  output_word = ''\n",
        "  for word, index in tokenizer.word_index.items():\n",
        "    if index == predicted:\n",
        "      output_word = word\n",
        "      break\n",
        "  seed_text += ' ' + output_word\n",
        "print(seed_text)"
      ],
      "execution_count": 85,
      "outputs": [
        {
          "output_type": "stream",
          "name": "stdout",
          "text": [
            "1/1 [==============================] - 1s 620ms/step\n",
            "1/1 [==============================] - 0s 20ms/step\n",
            "1/1 [==============================] - 0s 18ms/step\n",
            "1/1 [==============================] - 0s 40ms/step\n",
            "1/1 [==============================] - 0s 23ms/step\n",
            "1/1 [==============================] - 0s 19ms/step\n",
            "1/1 [==============================] - 0s 26ms/step\n",
            "1/1 [==============================] - 0s 20ms/step\n",
            "1/1 [==============================] - 0s 21ms/step\n",
            "1/1 [==============================] - 0s 33ms/step\n",
            "1/1 [==============================] - 0s 20ms/step\n",
            "1/1 [==============================] - 0s 28ms/step\n",
            "1/1 [==============================] - 0s 21ms/step\n",
            "1/1 [==============================] - 0s 21ms/step\n",
            "1/1 [==============================] - 0s 19ms/step\n",
            "1/1 [==============================] - 0s 20ms/step\n",
            "1/1 [==============================] - 0s 23ms/step\n",
            "1/1 [==============================] - 0s 26ms/step\n",
            "1/1 [==============================] - 0s 26ms/step\n",
            "1/1 [==============================] - 0s 20ms/step\n",
            "1/1 [==============================] - 0s 22ms/step\n",
            "1/1 [==============================] - 0s 25ms/step\n",
            "1/1 [==============================] - 0s 20ms/step\n",
            "1/1 [==============================] - 0s 20ms/step\n",
            "1/1 [==============================] - 0s 26ms/step\n",
            "1/1 [==============================] - 0s 25ms/step\n",
            "1/1 [==============================] - 0s 20ms/step\n",
            "1/1 [==============================] - 0s 21ms/step\n",
            "1/1 [==============================] - 0s 19ms/step\n",
            "1/1 [==============================] - 0s 18ms/step\n",
            "1/1 [==============================] - 0s 22ms/step\n",
            "1/1 [==============================] - 0s 23ms/step\n",
            "1/1 [==============================] - 0s 21ms/step\n",
            "1/1 [==============================] - 0s 19ms/step\n",
            "1/1 [==============================] - 0s 19ms/step\n",
            "1/1 [==============================] - 0s 20ms/step\n",
            "1/1 [==============================] - 0s 19ms/step\n",
            "1/1 [==============================] - 0s 20ms/step\n",
            "1/1 [==============================] - 0s 20ms/step\n",
            "1/1 [==============================] - 0s 19ms/step\n",
            "1/1 [==============================] - 0s 18ms/step\n",
            "1/1 [==============================] - 0s 21ms/step\n",
            "1/1 [==============================] - 0s 18ms/step\n",
            "1/1 [==============================] - 0s 20ms/step\n",
            "1/1 [==============================] - 0s 21ms/step\n",
            "1/1 [==============================] - 0s 27ms/step\n",
            "1/1 [==============================] - 0s 22ms/step\n",
            "1/1 [==============================] - 0s 21ms/step\n",
            "1/1 [==============================] - 0s 21ms/step\n",
            "1/1 [==============================] - 0s 21ms/step\n",
            "1/1 [==============================] - 0s 19ms/step\n",
            "1/1 [==============================] - 0s 18ms/step\n",
            "1/1 [==============================] - 0s 26ms/step\n",
            "1/1 [==============================] - 0s 19ms/step\n",
            "1/1 [==============================] - 0s 23ms/step\n",
            "1/1 [==============================] - 0s 22ms/step\n",
            "1/1 [==============================] - 0s 24ms/step\n",
            "1/1 [==============================] - 0s 20ms/step\n",
            "1/1 [==============================] - 0s 20ms/step\n",
            "1/1 [==============================] - 0s 25ms/step\n",
            "1/1 [==============================] - 0s 19ms/step\n",
            "1/1 [==============================] - 0s 22ms/step\n",
            "1/1 [==============================] - 0s 18ms/step\n",
            "1/1 [==============================] - 0s 21ms/step\n",
            "1/1 [==============================] - 0s 23ms/step\n",
            "1/1 [==============================] - 0s 19ms/step\n",
            "1/1 [==============================] - 0s 21ms/step\n",
            "1/1 [==============================] - 0s 20ms/step\n",
            "1/1 [==============================] - 0s 22ms/step\n",
            "1/1 [==============================] - 0s 19ms/step\n",
            "1/1 [==============================] - 0s 22ms/step\n",
            "1/1 [==============================] - 0s 21ms/step\n",
            "1/1 [==============================] - 0s 20ms/step\n",
            "1/1 [==============================] - 0s 20ms/step\n",
            "1/1 [==============================] - 0s 21ms/step\n",
            "1/1 [==============================] - 0s 23ms/step\n",
            "1/1 [==============================] - 0s 21ms/step\n",
            "1/1 [==============================] - 0s 20ms/step\n",
            "1/1 [==============================] - 0s 20ms/step\n",
            "1/1 [==============================] - 0s 19ms/step\n",
            "1/1 [==============================] - 0s 18ms/step\n",
            "1/1 [==============================] - 0s 22ms/step\n",
            "1/1 [==============================] - 0s 20ms/step\n",
            "1/1 [==============================] - 0s 21ms/step\n",
            "1/1 [==============================] - 0s 19ms/step\n",
            "1/1 [==============================] - 0s 20ms/step\n",
            "1/1 [==============================] - 0s 18ms/step\n",
            "1/1 [==============================] - 0s 18ms/step\n",
            "1/1 [==============================] - 0s 21ms/step\n",
            "1/1 [==============================] - 0s 19ms/step\n",
            "1/1 [==============================] - 0s 20ms/step\n",
            "1/1 [==============================] - 0s 20ms/step\n",
            "1/1 [==============================] - 0s 19ms/step\n",
            "1/1 [==============================] - 0s 18ms/step\n",
            "1/1 [==============================] - 0s 20ms/step\n",
            "1/1 [==============================] - 0s 18ms/step\n",
            "1/1 [==============================] - 0s 18ms/step\n",
            "1/1 [==============================] - 0s 22ms/step\n",
            "1/1 [==============================] - 0s 21ms/step\n",
            "1/1 [==============================] - 0s 20ms/step\n",
            "I could not help laughing at the ease with which he explained his process of deduction “when no good purpose can be served with this intention to make me the self reproach and eyes ” remarked holmes when the cloth was cleared “just a drive then i travelled and saw the man of the house and i was not so much as ever as the dog to see what a week and hosmer wrote from any case before you but the king has been driven from a few years and i got to the floor and the moment struck the sign of me and i left his hands at night and has put in the coffee\n"
          ]
        }
      ]
    }
  ]
}